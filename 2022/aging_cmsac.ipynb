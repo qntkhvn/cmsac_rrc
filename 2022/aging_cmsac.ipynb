{
  "nbformat": 4,
  "nbformat_minor": 0,
  "metadata": {
    "colab": {
      "name": "aging_cmsac.ipynb",
      "provenance": [],
      "authorship_tag": "ABX9TyNZppq5rocL+R4vyWJeguSH",
      "include_colab_link": true
    },
    "kernelspec": {
      "name": "ir",
      "display_name": "R"
    },
    "language_info": {
      "name": "R"
    }
  },
  "cells": [
    {
      "cell_type": "markdown",
      "metadata": {
        "id": "view-in-github",
        "colab_type": "text"
      },
      "source": [
        "<a href=\"https://colab.research.google.com/github/qntkhvn/cmsac_rrc/blob/main/2022/aging_cmsac.ipynb\" target=\"_parent\"><img src=\"https://colab.research.google.com/assets/colab-badge.svg\" alt=\"Open In Colab\"/></a>"
      ]
    },
    {
      "cell_type": "markdown",
      "source": [
        "### **Aging Curve Estimation Using Multiple Imputation**\n",
        "#### ***Submitted to #CMSAC22 Reproducible Research Competition***\n",
        "<br>\n",
        "\n",
        "---\n",
        "\n"
      ],
      "metadata": {
        "id": "gu3ls8OWy2o4"
      }
    },
    {
      "cell_type": "markdown",
      "source": [
        "##### **Data prep**"
      ],
      "metadata": {
        "id": "Fc5lhWzp0ZxH"
      }
    },
    {
      "cell_type": "code",
      "source": [
        "library(Lahman)\n",
        "library(tidyverse)\n",
        "\n",
        "# join Batting and People tables\n",
        "# use OPS as performance measure\n",
        "# scale/transform OPS\n",
        "# keep players with at least 100 plate appearances\n",
        "# age correction based on birth month\n",
        "mlb_sim <- Batting |> \n",
        "  group_by(playerID, yearID) |> \n",
        "  summarise(across(G:GIDP, sum)) |> \n",
        "  battingStats() |> \n",
        "  left_join(People, by = \"playerID\") |> \n",
        "  filter(PA >= 100) |> \n",
        "  mutate(age = ifelse(birthMonth >= 7, yearID - birthYear - 1, yearID - birthYear),\n",
        "         ops_trans = asin(sqrt(OPS / max(OPS))))\n",
        "\n",
        "# define variable for highest OPS value\n",
        "max_ops <- max(mlb_sim$OPS)"
      ],
      "metadata": {
        "id": "d-B2JCb40cFz"
      },
      "execution_count": null,
      "outputs": []
    },
    {
      "cell_type": "markdown",
      "source": [
        "##### **Mixed-effects model**"
      ],
      "metadata": {
        "id": "tB9RS3TG1FVF"
      }
    },
    {
      "cell_type": "code",
      "source": [
        "library(lme4)\n",
        "set.seed(100)\n",
        "\n",
        "# more details in paper section 4.1 \n",
        "mlb_fit <- lmer(ops_trans ~ poly(age, 3, raw = TRUE) + (1 | playerID),\n",
        "               data = mlb_sim)\n",
        "\n",
        "# variance-covariance matrix\n",
        "var_cor <- mlb_fit |> \n",
        "  VarCorr() |> \n",
        "  as_tibble()"
      ],
      "metadata": {
        "id": "qWYs2yi01LGM"
      },
      "execution_count": null,
      "outputs": []
    },
    {
      "cell_type": "markdown",
      "source": [
        "##### **Generate fictional player careers**"
      ],
      "metadata": {
        "id": "o3UuDxTL14NI"
      }
    },
    {
      "cell_type": "code",
      "source": [
        "age_sim <- 21:39\n",
        "sim_career <- function() {\n",
        "  # baseline\n",
        "  pred <- predict(mlb_fit, tibble(age = age_sim), re.form = NA)\n",
        "  # deviation from baseline\n",
        "  shift <- rnorm(1, 0, var_cor$sdcor[1])\n",
        "  # variability across seasons\n",
        "  eps <- rnorm(length(age_sim), 0, var_cor$sdcor[2])\n",
        "  return(pred + shift + eps)\n",
        "}\n",
        "\n",
        "sim_list <- c()\n",
        "nsim <- 1000\n",
        "for (i in 1:nsim) {\n",
        "  sim_list[[i]] <- tibble(player = i,\n",
        "                          ops_trans = sim_career(),\n",
        "                          age = age_sim)\n",
        "}\n",
        "\n",
        "sim_df <- sim_list |> \n",
        "  bind_rows() |> \n",
        "  mutate(ops = max_ops * sin(ops_trans) ^ 2)"
      ],
      "metadata": {
        "id": "mmADTT4B19Kc"
      },
      "execution_count": null,
      "outputs": []
    },
    {
      "cell_type": "markdown",
      "source": [
        "##### **Create dropout mechanisms**"
      ],
      "metadata": {
        "id": "pNR3joki2rFa"
      }
    },
    {
      "cell_type": "code",
      "source": [
        "# at age 30, 25% randomly retire\n",
        "# aging curve remains the same\n",
        "players <- unique(sim_df$player)\n",
        "rand_players <- sample(players, length(players) / 4)\n",
        "\n",
        "retire_30 <- sim_df |> \n",
        "  filter(player %in% rand_players, age >= 30)\n",
        "\n",
        "out_random_30 <- sim_df |> \n",
        "  anti_join(retire_30)"
      ],
      "metadata": {
        "id": "0aHHnFlF2vw3"
      },
      "execution_count": null,
      "outputs": []
    },
    {
      "cell_type": "code",
      "source": [
        "# drop 1st half of career \n",
        "# when average from start to 25 is below 0.55\n",
        "ops_avg_start <- sim_df |> \n",
        "  filter(age <= 25) |> \n",
        "  group_by(player) |> \n",
        "  summarise(avg = mean(ops)) |> \n",
        "  filter(avg < 0.55)\n",
        "\n",
        "out_avg_start <- sim_df |> \n",
        "  mutate(ops = ifelse(player %in% ops_avg_start$player & age > 25, NA, ops),\n",
        "         ops_trans = ifelse(is.na(ops), NA, ops_trans)) "
      ],
      "metadata": {
        "id": "qpJ9DWM-z2UO"
      },
      "execution_count": null,
      "outputs": []
    },
    {
      "cell_type": "code",
      "source": [
        "# drop if any 4-year avg is below 0.55\n",
        "get_drop_4yr <- sim_df |> \n",
        "  group_by(player) |> \n",
        "  filter((ops + lag(ops) + lag(ops, 2) + lag(ops, 3)) / 4 < 0.55) |> \n",
        "  slice_min(age) |> \n",
        "  select(player, drop_age = age)\n",
        "\n",
        "out_4yr_avg <- sim_df |> \n",
        "  left_join(get_drop_4yr) |> \n",
        "  mutate(drop_age = ifelse(is.na(drop_age), 40, drop_age),\n",
        "         ops = ifelse(age > drop_age, NA, ops),\n",
        "         ops_trans = ifelse(is.na(ops), NA, ops_trans)) |>\n",
        "  select(-drop_age)"
      ],
      "metadata": {
        "id": "gWph8hns0BLx"
      },
      "execution_count": null,
      "outputs": []
    },
    {
      "cell_type": "markdown",
      "source": [
        "##### **Compare dropout mechanisms**"
      ],
      "metadata": {
        "id": "tQzW2TBZ0Vpo"
      }
    },
    {
      "cell_type": "code",
      "source": [
        "mutate(sim_df, type = \"original\") |>\n",
        "  bind_rows(mutate(out_random_30, type = \"drop_random_30\")) |>\n",
        "  bind_rows(mutate(out_avg_start, type = \"drop_avg_25\")) |>\n",
        "  bind_rows(mutate(out_4yr_avg, type = \"drop_4yr_avg\")) |> \n",
        "  group_by(type, age) |> \n",
        "  summarise(avg = mean(ops, na.rm = TRUE)) |> \n",
        "  ggplot(aes(x = age, y = avg, color = type)) +\n",
        "  geom_smooth(method = \"loess\", se = FALSE, size = 1, span = 1.5) +\n",
        "  scale_color_manual(values = c(\"black\", \"darkorange\", \"blue\", \"maroon\"))"
      ],
      "metadata": {
        "id": "dJBwOpff0XA3"
      },
      "execution_count": null,
      "outputs": []
    },
    {
      "cell_type": "code",
      "source": [
        "# mean absolute error\n",
        "mae <- function(y, pred) {\n",
        "    return(mean(abs(y - pred)))\n",
        "}"
      ],
      "metadata": {
        "id": "YsK7fuu202ZL"
      },
      "execution_count": null,
      "outputs": []
    },
    {
      "cell_type": "code",
      "source": [
        "# compare dropout and true curves using mae\n",
        "library(mosaic)\n",
        "mae(mean(ops ~ age, data = sim_df), mean(ops ~ age, data = out_random_30))\n",
        "mae(mean(ops ~ age, data = sim_df), mean(ops ~ age, na.rm = TRUE, data = out_avg_start))\n",
        "mae(mean(ops ~ age, data = sim_df), mean(ops ~ age, na.rm = TRUE, data = out_4yr_avg))"
      ],
      "metadata": {
        "id": "RyO1HRrl1P9B"
      },
      "execution_count": null,
      "outputs": []
    },
    {
      "cell_type": "markdown",
      "source": [
        "##### **Multiple imputation: Helper functions**"
      ],
      "metadata": {
        "id": "zZnkL1Q92Ddy"
      }
    },
    {
      "cell_type": "code",
      "source": [
        "# helper function: imputation with age as the only predictor\n",
        "library(mice)\n",
        "set.seed(100)\n",
        "\n",
        "imp_age_only <- function(df, nimp = 5, niter = 30) {\n",
        "  \n",
        "  imp_df <- df |> \n",
        "    select(player, age, ops_trans)\n",
        "  \n",
        "  # initial imputation object\n",
        "  ini <- imp_df |> \n",
        "    mice(maxit = 0)\n",
        "  \n",
        "  # get predictor matrix\n",
        "  pred_mat <- ini |> \n",
        "    pluck(\"predictorMatrix\")\n",
        "  \n",
        "  # specify effects\n",
        "  pred_mat[\"ops_trans\", ] <- c(-2, 2, 0)\n",
        "  \n",
        "  # default: 5 imputations, 30 iterations for each\n",
        "  # linear two-level model with heterogeneous within-class variance\n",
        "  imp <- imp_df |> \n",
        "    mice(predictorMatrix = pred_mat, \n",
        "         method = \"2l.norm\",\n",
        "         m = nimp,\n",
        "         maxit = niter)\n",
        "  \n",
        "  return(imp)\n",
        "}"
      ],
      "metadata": {
        "id": "SUCOr4K_2Ocw"
      },
      "execution_count": null,
      "outputs": []
    },
    {
      "cell_type": "code",
      "source": [
        "# helper function: get completed datasets after imputing\n",
        "imp_comp <- function(imp) {\n",
        "  comp <- imp |>\n",
        "    complete(\"long\", include = TRUE) |>\n",
        "    mutate(ops = max_ops * (sin(ops_trans)) ^ 2)\n",
        "  return(comp)\n",
        "}"
      ],
      "metadata": {
        "id": "XkNeh9qN2ZTP"
      },
      "execution_count": null,
      "outputs": []
    },
    {
      "cell_type": "code",
      "source": [
        "# helper function: combine/pool imputation results\n",
        "imp_comb <- function(imp, alpha = 0.05) {\n",
        "  combined <- mice::complete(imp, \"long\") %>% \n",
        "    dplyr::group_by(.imp, age) %>%\n",
        "    dplyr::summarize(est = mean(ops_trans),\n",
        "                     v = var(ops_trans)) %>% \n",
        "    dplyr::ungroup() %>% \n",
        "    dplyr::group_by(age) %>% \n",
        "    dplyr::summarize(avg = mean(est),\n",
        "                     vw = sum(v) / imp$m, # Within imputation variance\n",
        "                     vb = sum((est - avg) ^ 2) / (imp$m - 1), # Between imputation variance\n",
        "                     vt = vw + vb + vb / imp$m, # total variability\n",
        "                     se_pooled = sqrt(vt), # pooled se\n",
        "                     lambda = (vb + vb / imp$m) / vt,\n",
        "                     riv = (vb + vb / imp$m) / vw,\n",
        "                     df = (imp$m - 1) / (lambda ^ 2), \n",
        "                     upper = avg + qt(1 - alpha / 2, df) * se_pooled,\n",
        "                     lower = avg - qt(1 - alpha / 2, df) * se_pooled) %>% \n",
        "    dplyr::transmute(age,\n",
        "                     ops = max_ops * (sin(avg)) ^ 2,\n",
        "                     ops_upper = max_ops * (sin(upper)) ^ 2,\n",
        "                     ops_lower = max_ops * (sin(lower)) ^ 2)\n",
        "  return(combined)\n",
        "}"
      ],
      "metadata": {
        "id": "3Kb5IbK02gOk"
      },
      "execution_count": null,
      "outputs": []
    },
    {
      "cell_type": "markdown",
      "source": [
        "##### **Multiple imputation: Analysis**"
      ],
      "metadata": {
        "id": "WQ8Z3103m_FX"
      }
    },
    {
      "cell_type": "code",
      "source": [
        "# illustrate imputation for dropout case of low OPS average at start of career (age 21-25)\n",
        "imp_avg_start <- out_avg_start |>\n",
        "  imp_age_only()\n",
        "\n",
        "bind_vars <- c(\"player\", \"age\", \"ops\", \"curve\")\n",
        "sim_df_bind <- sim_df |> \n",
        "  mutate(curve = \"Original\") |> \n",
        "  select(all_of(bind_vars))\n",
        "\n",
        "comp_avg_start <- imp_avg_start |> \n",
        "  imp_comp() |> \n",
        "  mutate(curve = paste(\"Imputation\", .imp),\n",
        "         curve = str_replace(curve, \"Imputation 0\", \"Missing\")) |> \n",
        "  select(all_of(bind_vars)) |> \n",
        "  bind_rows(sim_df_bind)\n",
        "\n",
        "comb_avg_start <- imp_avg_start |> \n",
        "  imp_comb() |> \n",
        "  mutate(curve = \"Combined\")"
      ],
      "metadata": {
        "id": "o8ewKjg72ui0"
      },
      "execution_count": null,
      "outputs": []
    },
    {
      "cell_type": "code",
      "source": [
        "# mae between fully observed and imputed data\n",
        "mae(mean(ops ~ age, data = sim_df), mean(ops ~ age, data = comb_avg_start))"
      ],
      "metadata": {
        "id": "oOF24d7B3fqv"
      },
      "execution_count": null,
      "outputs": []
    },
    {
      "cell_type": "code",
      "source": [
        "# original vs missing vs imputed curves\n",
        "comp_avg_start |> \n",
        "  group_by(curve, age) |>\n",
        "  summarise(ops = mean(ops, na.rm = TRUE)) |> \n",
        "  bind_rows(comb_avg_start) |> \n",
        "  mutate(curve = factor(curve, levels = c(str_c(\"Imputation \", 1:5), \"Combined\", \"Missing\", \"Original\"))) |> \n",
        "  ggplot(aes(x = age, y = ops, color = curve)) +\n",
        "  geom_smooth(method = \"loess\", span = 1.5, se = FALSE) +\n",
        "  scale_color_manual(values = c(str_c(\"gray\", seq(10, 50, 10)), \"blue\", \"green\", \"red\"))"
      ],
      "metadata": {
        "id": "YcPi7L4c4ClX"
      },
      "execution_count": null,
      "outputs": []
    },
    {
      "cell_type": "code",
      "source": [
        "# combined curve with 95% CI\n",
        "comb_avg_start |> \n",
        "  ggplot(aes(age, ops)) +\n",
        "  geom_ribbon(aes(ymin = ops_lower, ymax = ops_upper), fill = \"grey70\", alpha = 0.5) +\n",
        "  geom_point(size = 0.9) +\n",
        "  geom_smooth(span = 1.5)"
      ],
      "metadata": {
        "id": "0Y6RTpA-5gCW"
      },
      "execution_count": null,
      "outputs": []
    },
    {
      "cell_type": "markdown",
      "source": [
        "##### **Multiple imputation: Diagnostics**"
      ],
      "metadata": {
        "id": "TIevnbkInPHd"
      }
    },
    {
      "cell_type": "code",
      "source": [
        "# check for distribution discrepancy\n",
        "# compare densities of imputed and observed data\n",
        "comp_avg_start |> \n",
        "  filter(curve != \"Missing\") |> \n",
        "  ggplot(aes(ops, color = curve)) +\n",
        "  stat_density(geom = \"line\", position = \"identity\", size = 0.5) +\n",
        "  scale_color_manual(values = c(palette()[6:2], \"black\")) "
      ],
      "metadata": {
        "id": "A6jd4TeF5voy"
      },
      "execution_count": null,
      "outputs": []
    },
    {
      "cell_type": "code",
      "source": [
        "# check for convergence of imputation\n",
        "# helper function for convergence\n",
        "imp_converge <- function(imp) {\n",
        "  mn <- imp$chainMean[3, , ] |> \n",
        "    as_tibble() |> \n",
        "    mutate(iter = row_number()) |>\n",
        "    pivot_longer(!iter,\n",
        "                 names_to = \"chain\",\n",
        "                 names_prefix = \"Chain \",\n",
        "                 values_to = \"mean\")\n",
        "  std <- imp$chainVar[3, , ] |> \n",
        "    as_tibble() |> \n",
        "    mutate(iter = row_number()) |>\n",
        "    pivot_longer(!iter,\n",
        "                 names_to = \"chain\",\n",
        "                 names_prefix = \"Chain \",\n",
        "                 values_to = \"sd\",\n",
        "                 values_transform = list(sd = sqrt))\n",
        "  mn |> \n",
        "    full_join(std) |> \n",
        "    pivot_longer(mean:sd)\n",
        "}"
      ],
      "metadata": {
        "id": "WnkPLl_86CgO"
      },
      "execution_count": null,
      "outputs": []
    },
    {
      "cell_type": "code",
      "source": [
        "# trace plot for mean and sd\n",
        "imp_avg_start |> \n",
        "  imp_converge() |> \n",
        "  ggplot(aes(iter, value, color = chain)) +\n",
        "  geom_line(size = 0.3) +\n",
        "  facet_wrap(~ name, scales = \"free\")"
      ],
      "metadata": {
        "id": "bW-VTmZo6Xhi"
      },
      "execution_count": null,
      "outputs": []
    },
    {
      "cell_type": "markdown",
      "source": [
        "##### **Application to real data**"
      ],
      "metadata": {
        "id": "sDRcZwLH6kYx"
      }
    },
    {
      "cell_type": "code",
      "source": [
        "# similar prep to simulation\n",
        "# consider players with debut year no sooner than 1985\n",
        "mlb_real <- Batting |> \n",
        "  group_by(playerID, yearID) |> \n",
        "  summarise(across(G:GIDP, sum)) |> \n",
        "  battingStats() |> \n",
        "  left_join(People, by = \"playerID\") |> \n",
        "  mutate(age = ifelse(birthMonth >= 7, yearID - birthYear - 1, yearID - birthYear))\n",
        "\n",
        "age_range <- 21:39\n",
        "mlb_real_imp <- mlb_real |> \n",
        "  filter(PA >= 100, age %in% age_range, str_sub(debut, 1, 4) >= 1985) |> \n",
        "  mutate(ops_trans = asin(sqrt(OPS / max(OPS))),\n",
        "         pnum = as.integer(as.factor(playerID)))\n",
        "\n",
        "\n",
        "# create data with observed and missing seasons for players\n",
        "players <- unique(mlb_real_imp$playerID)\n",
        "players_age <- tibble(playerID = rep(players, each = length(age_range))) |> \n",
        "  group_by(playerID) |> \n",
        "  mutate(age = age_range) |> \n",
        "  ungroup()\n",
        "\n",
        "all_players <- players_age |> \n",
        "  left_join(mlb_real_imp) |> \n",
        "  mutate(player = as.integer(factor(playerID)))\n",
        "\n",
        "# imputation\n",
        "set.seed(100)\n",
        "imp_mlb_age_only <- all_players |> \n",
        "  imp_age_only()"
      ],
      "metadata": {
        "id": "QXWWGjPd6mDc"
      },
      "execution_count": null,
      "outputs": []
    },
    {
      "cell_type": "code",
      "source": [
        "# compare imputed and non-imputed curves\n",
        "imp_mlb_age_only |> \n",
        "  imp_comp() |> \n",
        "  mutate(type = paste(\"Imputation\", .imp)) |> \n",
        "  select(.id, age, ops, type) |> \n",
        "  group_by(type, age) |>\n",
        "  summarise(ops = mean(ops, na.rm = TRUE)) |> \n",
        "  ggplot(aes(age, ops, color = type)) +\n",
        "  geom_smooth(method = \"loess\", span = 1.5, se = FALSE) +\n",
        "  geom_smooth(aes(age, ops), se = FALSE, method = \"loess\", span = 1.5,\n",
        "              data = mutate(imp_comb(imp_mlb_age_only), type = \"Combined\")) +\n",
        "  scale_color_manual(values = c(\"blue\", \"darkorange\", str_c(\"gray\", seq(60, 80, 5))))"
      ],
      "metadata": {
        "id": "0GpNtQPK7IAa"
      },
      "execution_count": null,
      "outputs": []
    }
  ]
}